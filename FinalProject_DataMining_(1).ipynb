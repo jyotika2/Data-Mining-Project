{
  "nbformat": 4,
  "nbformat_minor": 0,
  "metadata": {
    "kernelspec": {
      "name": "python3",
      "display_name": "Python 3"
    },
    "language_info": {
      "codemirror_mode": {
        "name": "ipython",
        "version": 3
      },
      "file_extension": ".py",
      "mimetype": "text/x-python",
      "name": "python",
      "nbconvert_exporter": "python",
      "pygments_lexer": "ipython3",
      "version": "3.6.9"
    },
    "colab": {
      "name": "FinalProject_DataMining (1).ipynb",
      "provenance": [],
      "machine_shape": "hm",
      "include_colab_link": true
    },
    "accelerator": "TPU"
  },
  "cells": [
    {
      "cell_type": "markdown",
      "metadata": {
        "id": "view-in-github",
        "colab_type": "text"
      },
      "source": [
        "<a href=\"https://colab.research.google.com/github/jyotika2/Data-Mining-Project/blob/master/FinalProject_DataMining_(1).ipynb\" target=\"_parent\"><img src=\"https://colab.research.google.com/assets/colab-badge.svg\" alt=\"Open In Colab\"/></a>"
      ]
    },
    {
      "cell_type": "code",
      "metadata": {
        "id": "BfcVpUft_5pM",
        "colab_type": "code",
        "colab": {}
      },
      "source": [
        "import pandas as pd\n",
        "import string\n",
        "import nltk\n",
        "import types\n",
        "import numpy as np\n",
        "from sklearn.feature_extraction.text import TfidfTransformer, CountVectorizer\n",
        "from nltk.stem import PorterStemmer\n",
        "from sklearn.model_selection import train_test_split\n",
        "from sklearn.naive_bayes import MultinomialNB\n",
        "from sklearn.metrics import confusion_matrix\n",
        "from nltk.corpus import stopwords\n",
        "import copy"
      ],
      "execution_count": 0,
      "outputs": []
    },
    {
      "cell_type": "code",
      "metadata": {
        "id": "LiLlMYciuwMo",
        "colab_type": "code",
        "outputId": "a07c49d7-da94-467f-944c-c2710f11d694",
        "colab": {
          "base_uri": "https://localhost:8080/",
          "height": 104
        }
      },
      "source": [
        "nltk.download('punkt')\n",
        "nltk.download('stopwords')"
      ],
      "execution_count": 2,
      "outputs": [
        {
          "output_type": "stream",
          "text": [
            "[nltk_data] Downloading package punkt to /root/nltk_data...\n",
            "[nltk_data]   Unzipping tokenizers/punkt.zip.\n",
            "[nltk_data] Downloading package stopwords to /root/nltk_data...\n",
            "[nltk_data]   Unzipping corpora/stopwords.zip.\n"
          ],
          "name": "stdout"
        },
        {
          "output_type": "execute_result",
          "data": {
            "text/plain": [
              "True"
            ]
          },
          "metadata": {
            "tags": []
          },
          "execution_count": 2
        }
      ]
    },
    {
      "cell_type": "code",
      "metadata": {
        "id": "U5h6qacoAJgd",
        "colab_type": "code",
        "outputId": "33c7270c-5b42-4035-b93f-e58f231f514a",
        "colab": {
          "base_uri": "https://localhost:8080/",
          "height": 35
        }
      },
      "source": [
        "import tensorflow as tf \n",
        "tf.test.gpu_device_name() "
      ],
      "execution_count": 3,
      "outputs": [
        {
          "output_type": "execute_result",
          "data": {
            "text/plain": [
              "''"
            ]
          },
          "metadata": {
            "tags": []
          },
          "execution_count": 3
        }
      ]
    },
    {
      "cell_type": "code",
      "metadata": {
        "id": "g1DuVm62AYwA",
        "colab_type": "code",
        "colab": {
          "base_uri": "https://localhost:8080/",
          "height": 156
        },
        "outputId": "51f7cf2f-7f12-470d-a5aa-b78ca4669b81"
      },
      "source": [
        "from pydrive.auth import GoogleAuth\n",
        "from pydrive.drive import GoogleDrive\n",
        "from google.colab import auth\n",
        "from oauth2client.client import GoogleCredentials\n",
        "# Authenticate and create the PyDrive client.\n",
        "auth.authenticate_user()\n",
        "gauth = GoogleAuth()\n",
        "gauth.credentials = GoogleCredentials.get_application_default()\n",
        "drive = GoogleDrive(gauth)"
      ],
      "execution_count": 4,
      "outputs": [
        {
          "output_type": "stream",
          "text": [
            "WARNING:tensorflow:\n",
            "The TensorFlow contrib module will not be included in TensorFlow 2.0.\n",
            "For more information, please see:\n",
            "  * https://github.com/tensorflow/community/blob/master/rfcs/20180907-contrib-sunset.md\n",
            "  * https://github.com/tensorflow/addons\n",
            "  * https://github.com/tensorflow/io (for I/O related ops)\n",
            "If you depend on functionality not listed there, please file an issue.\n",
            "\n"
          ],
          "name": "stdout"
        }
      ]
    },
    {
      "cell_type": "code",
      "metadata": {
        "id": "tWu9ueoOA-tW",
        "colab_type": "code",
        "outputId": "651454ec-3615-4bc2-a9a6-4bad6ec893ba",
        "colab": {
          "base_uri": "https://localhost:8080/",
          "height": 35
        }
      },
      "source": [
        "link = 'https://drive.google.com/open?id=13ob0u_ljytanjFWzdjjb3lwL5L8OGEqm'\n",
        "fluff, id = link.split('=')\n",
        "print (id) # Verify that you have everything after '='"
      ],
      "execution_count": 5,
      "outputs": [
        {
          "output_type": "stream",
          "text": [
            "13ob0u_ljytanjFWzdjjb3lwL5L8OGEqm\n"
          ],
          "name": "stdout"
        }
      ]
    },
    {
      "cell_type": "code",
      "metadata": {
        "id": "JwY039WrBTCv",
        "colab_type": "code",
        "colab": {}
      },
      "source": [
        "downloaded = drive.CreateFile({'id':id}) \n",
        "downloaded.GetContentFile('train.csv') "
      ],
      "execution_count": 0,
      "outputs": []
    },
    {
      "cell_type": "code",
      "metadata": {
        "id": "PG5FR5qB_5pX",
        "colab_type": "code",
        "colab": {}
      },
      "source": [
        "# dataset = pd.read_csv('C:/Users/gaura/Downloads/train.csv')\n",
        "# test_dataset = pd.read_csv('C:/Users/gaura/Downloads/test.csv')\n",
        "import io\n",
        "dataset = pd.read_csv('train.csv')"
      ],
      "execution_count": 0,
      "outputs": []
    },
    {
      "cell_type": "code",
      "metadata": {
        "scrolled": false,
        "id": "TsUjQUUS_5pb",
        "colab_type": "code",
        "colab": {
          "base_uri": "https://localhost:8080/",
          "height": 415
        },
        "outputId": "db0752dd-b0d7-4896-9a54-abb1586378e9"
      },
      "source": [
        "dataset"
      ],
      "execution_count": 8,
      "outputs": [
        {
          "output_type": "execute_result",
          "data": {
            "text/html": [
              "<div>\n",
              "<style scoped>\n",
              "    .dataframe tbody tr th:only-of-type {\n",
              "        vertical-align: middle;\n",
              "    }\n",
              "\n",
              "    .dataframe tbody tr th {\n",
              "        vertical-align: top;\n",
              "    }\n",
              "\n",
              "    .dataframe thead th {\n",
              "        text-align: right;\n",
              "    }\n",
              "</style>\n",
              "<table border=\"1\" class=\"dataframe\">\n",
              "  <thead>\n",
              "    <tr style=\"text-align: right;\">\n",
              "      <th></th>\n",
              "      <th>user</th>\n",
              "      <th>sku</th>\n",
              "      <th>category</th>\n",
              "      <th>query</th>\n",
              "      <th>click_time</th>\n",
              "      <th>query_time</th>\n",
              "    </tr>\n",
              "  </thead>\n",
              "  <tbody>\n",
              "    <tr>\n",
              "      <th>0</th>\n",
              "      <td>000000df17cd56a5df4a94074e133c9d4739fae3</td>\n",
              "      <td>2125233</td>\n",
              "      <td>abcat0101001</td>\n",
              "      <td>Televisiones Panasonic  50 pulgadas</td>\n",
              "      <td>2011-09-01 23:44:52.533</td>\n",
              "      <td>2011-09-01 23:43:59.752</td>\n",
              "    </tr>\n",
              "    <tr>\n",
              "      <th>1</th>\n",
              "      <td>000001928162247ffaf63185cd8b2a244c78e7c6</td>\n",
              "      <td>2009324</td>\n",
              "      <td>abcat0101001</td>\n",
              "      <td>Sharp</td>\n",
              "      <td>2011-09-05 12:25:37.42</td>\n",
              "      <td>2011-09-05 12:25:01.187</td>\n",
              "    </tr>\n",
              "    <tr>\n",
              "      <th>2</th>\n",
              "      <td>000017f79c2b5da56721f22f9fdd726b13daf8e8</td>\n",
              "      <td>1517163</td>\n",
              "      <td>pcmcat193100050014</td>\n",
              "      <td>nook</td>\n",
              "      <td>2011-08-24 12:56:58.91</td>\n",
              "      <td>2011-08-24 12:55:13.012</td>\n",
              "    </tr>\n",
              "    <tr>\n",
              "      <th>3</th>\n",
              "      <td>000017f79c2b5da56721f22f9fdd726b13daf8e8</td>\n",
              "      <td>2877125</td>\n",
              "      <td>abcat0101001</td>\n",
              "      <td>rca</td>\n",
              "      <td>2011-10-25 07:18:14.722</td>\n",
              "      <td>2011-10-25 07:16:51.759</td>\n",
              "    </tr>\n",
              "    <tr>\n",
              "      <th>4</th>\n",
              "      <td>000017f79c2b5da56721f22f9fdd726b13daf8e8</td>\n",
              "      <td>2877134</td>\n",
              "      <td>abcat0101005</td>\n",
              "      <td>rca</td>\n",
              "      <td>2011-10-25 07:19:51.697</td>\n",
              "      <td>2011-10-25 07:16:51.759</td>\n",
              "    </tr>\n",
              "    <tr>\n",
              "      <th>...</th>\n",
              "      <td>...</td>\n",
              "      <td>...</td>\n",
              "      <td>...</td>\n",
              "      <td>...</td>\n",
              "      <td>...</td>\n",
              "      <td>...</td>\n",
              "    </tr>\n",
              "    <tr>\n",
              "      <th>1865264</th>\n",
              "      <td>ffffbcfcee8ff636231fa0df557528e6fa2ecdba</td>\n",
              "      <td>3674224</td>\n",
              "      <td>pcmcat247400050000</td>\n",
              "      <td>ttv</td>\n",
              "      <td>2011-10-28 07:30:33.921</td>\n",
              "      <td>2011-10-28 07:27:05.039</td>\n",
              "    </tr>\n",
              "    <tr>\n",
              "      <th>1865265</th>\n",
              "      <td>ffffddbbdc67c4d775c7232082adaf40c7e7d03c</td>\n",
              "      <td>2986037</td>\n",
              "      <td>pcmcat218000050000</td>\n",
              "      <td>incase</td>\n",
              "      <td>2011-09-11 14:18:12.625</td>\n",
              "      <td>2011-09-11 14:17:57.759</td>\n",
              "    </tr>\n",
              "    <tr>\n",
              "      <th>1865266</th>\n",
              "      <td>ffffed824a4fc5b78e407a423f72bbbc2f6e5213</td>\n",
              "      <td>3303069</td>\n",
              "      <td>pcmcat248500050020</td>\n",
              "      <td>ds games</td>\n",
              "      <td>2011-10-20 00:24:18.609</td>\n",
              "      <td>2011-10-20 00:23:16.705</td>\n",
              "    </tr>\n",
              "    <tr>\n",
              "      <th>1865267</th>\n",
              "      <td>fffff158dec2f40d082f7797413f7b6dbc1713e6</td>\n",
              "      <td>2390524</td>\n",
              "      <td>pcmcat209000050008</td>\n",
              "      <td>Archos</td>\n",
              "      <td>2011-10-30 15:42:02.347</td>\n",
              "      <td>2011-10-30 15:40:20.889</td>\n",
              "    </tr>\n",
              "    <tr>\n",
              "      <th>1865268</th>\n",
              "      <td>fffff53f46ee78433a09fada9439848fdf0e3a9b</td>\n",
              "      <td>3504376</td>\n",
              "      <td>pcmcat182300050008</td>\n",
              "      <td>graphics cards</td>\n",
              "      <td>2011-10-20 00:02:03.854</td>\n",
              "      <td>2011-10-20 00:01:39.827</td>\n",
              "    </tr>\n",
              "  </tbody>\n",
              "</table>\n",
              "<p>1865269 rows × 6 columns</p>\n",
              "</div>"
            ],
            "text/plain": [
              "                                             user  ...               query_time\n",
              "0        000000df17cd56a5df4a94074e133c9d4739fae3  ...  2011-09-01 23:43:59.752\n",
              "1        000001928162247ffaf63185cd8b2a244c78e7c6  ...  2011-09-05 12:25:01.187\n",
              "2        000017f79c2b5da56721f22f9fdd726b13daf8e8  ...  2011-08-24 12:55:13.012\n",
              "3        000017f79c2b5da56721f22f9fdd726b13daf8e8  ...  2011-10-25 07:16:51.759\n",
              "4        000017f79c2b5da56721f22f9fdd726b13daf8e8  ...  2011-10-25 07:16:51.759\n",
              "...                                           ...  ...                      ...\n",
              "1865264  ffffbcfcee8ff636231fa0df557528e6fa2ecdba  ...  2011-10-28 07:27:05.039\n",
              "1865265  ffffddbbdc67c4d775c7232082adaf40c7e7d03c  ...  2011-09-11 14:17:57.759\n",
              "1865266  ffffed824a4fc5b78e407a423f72bbbc2f6e5213  ...  2011-10-20 00:23:16.705\n",
              "1865267  fffff158dec2f40d082f7797413f7b6dbc1713e6  ...  2011-10-30 15:40:20.889\n",
              "1865268  fffff53f46ee78433a09fada9439848fdf0e3a9b  ...  2011-10-20 00:01:39.827\n",
              "\n",
              "[1865269 rows x 6 columns]"
            ]
          },
          "metadata": {
            "tags": []
          },
          "execution_count": 8
        }
      ]
    },
    {
      "cell_type": "code",
      "metadata": {
        "id": "5ZFs1dlE_5pi",
        "colab_type": "code",
        "colab": {}
      },
      "source": [
        "temp = dataset.groupby(['sku'])['sku'].count().reset_index(name='count').sort_values(['count'], ascending=False).head(100)"
      ],
      "execution_count": 0,
      "outputs": []
    },
    {
      "cell_type": "code",
      "metadata": {
        "id": "A2VuhijO_5pl",
        "colab_type": "code",
        "outputId": "1ec8033b-bfd5-49ed-f0db-ea8ffad8b5a2",
        "colab": {
          "base_uri": "https://localhost:8080/",
          "height": 277
        }
      },
      "source": [
        "temp.sku.values"
      ],
      "execution_count": 43,
      "outputs": [
        {
          "output_type": "execute_result",
          "data": {
            "text/plain": [
              "array([2842056, 1945531, 2842092, 9755322, 9225377, 2620821, 3061302,\n",
              "       2550164, 2390524, 2817582, 9492426, 3247045, 1331156, 9836718,\n",
              "       2138389, 9225411, 2893174, 2969477, 3209231, 1945595, 2738738,\n",
              "       2339322, 2475916, 1623912, 1257136, 2658077, 2989098, 1222817,\n",
              "       2873059, 9420361, 2809771, 1853531, 1232474, 2225047, 3487648,\n",
              "       9172799, 2836657, 1535836, 2970255, 3108109, 8229044, 3143987,\n",
              "       3303069, 2173056, 9744971, 2925714, 9755395, 1251336, 1162184,\n",
              "       9809492, 3103247, 3487784, 2506173, 1980124, 1534115, 3232178,\n",
              "       2506119, 1208844, 1831054, 1230537, 2971078, 2224084, 1946197,\n",
              "       3061366, 3168067, 1303056, 2845071, 1069212, 2300417, 2775225,\n",
              "       3674224, 2539739, 2803428, 3005219, 8915178, 2817743, 2049039,\n",
              "       2204211, 2512059, 1308088, 1517163, 8208389, 9945474, 2414049,\n",
              "       2265381, 1685061, 8856865, 8998506, 2769576, 6889584, 1987075,\n",
              "       1251981, 9845581, 1049236, 2375201, 3122039, 9947181, 1161725,\n",
              "       3133099, 8913606])"
            ]
          },
          "metadata": {
            "tags": []
          },
          "execution_count": 43
        }
      ]
    },
    {
      "cell_type": "code",
      "metadata": {
        "id": "QOtnIL_t_5pr",
        "colab_type": "code",
        "colab": {}
      },
      "source": [
        "# new_dataset = copy.deepcopy(dataset)\n",
        "new_dataset = dataset[dataset.sku.isin(temp.sku.values)]"
      ],
      "execution_count": 0,
      "outputs": []
    },
    {
      "cell_type": "code",
      "metadata": {
        "id": "FBz_PHhpGzfd",
        "colab_type": "code",
        "outputId": "ec9664b6-bb54-4afb-b6e9-586e611324d5",
        "colab": {
          "base_uri": "https://localhost:8080/",
          "height": 415
        }
      },
      "source": [
        "new_dataset"
      ],
      "execution_count": 45,
      "outputs": [
        {
          "output_type": "execute_result",
          "data": {
            "text/html": [
              "<div>\n",
              "<style scoped>\n",
              "    .dataframe tbody tr th:only-of-type {\n",
              "        vertical-align: middle;\n",
              "    }\n",
              "\n",
              "    .dataframe tbody tr th {\n",
              "        vertical-align: top;\n",
              "    }\n",
              "\n",
              "    .dataframe thead th {\n",
              "        text-align: right;\n",
              "    }\n",
              "</style>\n",
              "<table border=\"1\" class=\"dataframe\">\n",
              "  <thead>\n",
              "    <tr style=\"text-align: right;\">\n",
              "      <th></th>\n",
              "      <th>user</th>\n",
              "      <th>sku</th>\n",
              "      <th>category</th>\n",
              "      <th>query</th>\n",
              "      <th>click_time</th>\n",
              "      <th>query_time</th>\n",
              "    </tr>\n",
              "  </thead>\n",
              "  <tbody>\n",
              "    <tr>\n",
              "      <th>2</th>\n",
              "      <td>000017f79c2b5da56721f22f9fdd726b13daf8e8</td>\n",
              "      <td>1517163</td>\n",
              "      <td>pcmcat193100050014</td>\n",
              "      <td>nook</td>\n",
              "      <td>2011-08-24 12:56:58.91</td>\n",
              "      <td>2011-08-24 12:55:13.012</td>\n",
              "    </tr>\n",
              "    <tr>\n",
              "      <th>11</th>\n",
              "      <td>00006d8bb4bcc66f1676237629968277fb7a8dc5</td>\n",
              "      <td>1230537</td>\n",
              "      <td>pcmcat201900050009</td>\n",
              "      <td>Zagg iPhone</td>\n",
              "      <td>2011-10-18 17:21:33.919</td>\n",
              "      <td>2011-10-18 17:21:26.57</td>\n",
              "    </tr>\n",
              "    <tr>\n",
              "      <th>12</th>\n",
              "      <td>00007557d9b11f2f1a99792317963d30174171ba</td>\n",
              "      <td>3168067</td>\n",
              "      <td>cat02713</td>\n",
              "      <td>Watch The Throne</td>\n",
              "      <td>2011-09-04 10:55:20.427</td>\n",
              "      <td>2011-09-04 10:55:10.874</td>\n",
              "    </tr>\n",
              "    <tr>\n",
              "      <th>26</th>\n",
              "      <td>000126150c17acb66664a42c47d5dba399311783</td>\n",
              "      <td>9755322</td>\n",
              "      <td>pcmcat247400050001</td>\n",
              "      <td>Macbook</td>\n",
              "      <td>2011-09-26 15:12:48.533</td>\n",
              "      <td>2011-09-26 15:12:33.537</td>\n",
              "    </tr>\n",
              "    <tr>\n",
              "      <th>40</th>\n",
              "      <td>00017f7beeac02736c0ce7bf1e75f3010939b34e</td>\n",
              "      <td>1831054</td>\n",
              "      <td>abcat0101001</td>\n",
              "      <td>lcd tv</td>\n",
              "      <td>2011-09-28 07:26:32.153</td>\n",
              "      <td>2011-09-28 07:26:21.476</td>\n",
              "    </tr>\n",
              "    <tr>\n",
              "      <th>...</th>\n",
              "      <td>...</td>\n",
              "      <td>...</td>\n",
              "      <td>...</td>\n",
              "      <td>...</td>\n",
              "      <td>...</td>\n",
              "      <td>...</td>\n",
              "    </tr>\n",
              "    <tr>\n",
              "      <th>1865252</th>\n",
              "      <td>fffedfb154fbc4107ba7b075e4e1772a5a0cb20b</td>\n",
              "      <td>9836718</td>\n",
              "      <td>pcmcat144700050004</td>\n",
              "      <td>dre beats</td>\n",
              "      <td>2011-10-14 10:18:28.801</td>\n",
              "      <td>2011-10-14 10:17:52.387</td>\n",
              "    </tr>\n",
              "    <tr>\n",
              "      <th>1865262</th>\n",
              "      <td>ffff8667019e63064898cb1c6562610667009848</td>\n",
              "      <td>3232178</td>\n",
              "      <td>cat02012</td>\n",
              "      <td>tha carter IV</td>\n",
              "      <td>2011-08-31 17:04:29.647</td>\n",
              "      <td>2011-08-31 17:04:15.591</td>\n",
              "    </tr>\n",
              "    <tr>\n",
              "      <th>1865264</th>\n",
              "      <td>ffffbcfcee8ff636231fa0df557528e6fa2ecdba</td>\n",
              "      <td>3674224</td>\n",
              "      <td>pcmcat247400050000</td>\n",
              "      <td>ttv</td>\n",
              "      <td>2011-10-28 07:30:33.921</td>\n",
              "      <td>2011-10-28 07:27:05.039</td>\n",
              "    </tr>\n",
              "    <tr>\n",
              "      <th>1865266</th>\n",
              "      <td>ffffed824a4fc5b78e407a423f72bbbc2f6e5213</td>\n",
              "      <td>3303069</td>\n",
              "      <td>pcmcat248500050020</td>\n",
              "      <td>ds games</td>\n",
              "      <td>2011-10-20 00:24:18.609</td>\n",
              "      <td>2011-10-20 00:23:16.705</td>\n",
              "    </tr>\n",
              "    <tr>\n",
              "      <th>1865267</th>\n",
              "      <td>fffff158dec2f40d082f7797413f7b6dbc1713e6</td>\n",
              "      <td>2390524</td>\n",
              "      <td>pcmcat209000050008</td>\n",
              "      <td>Archos</td>\n",
              "      <td>2011-10-30 15:42:02.347</td>\n",
              "      <td>2011-10-30 15:40:20.889</td>\n",
              "    </tr>\n",
              "  </tbody>\n",
              "</table>\n",
              "<p>305434 rows × 6 columns</p>\n",
              "</div>"
            ],
            "text/plain": [
              "                                             user  ...               query_time\n",
              "2        000017f79c2b5da56721f22f9fdd726b13daf8e8  ...  2011-08-24 12:55:13.012\n",
              "11       00006d8bb4bcc66f1676237629968277fb7a8dc5  ...   2011-10-18 17:21:26.57\n",
              "12       00007557d9b11f2f1a99792317963d30174171ba  ...  2011-09-04 10:55:10.874\n",
              "26       000126150c17acb66664a42c47d5dba399311783  ...  2011-09-26 15:12:33.537\n",
              "40       00017f7beeac02736c0ce7bf1e75f3010939b34e  ...  2011-09-28 07:26:21.476\n",
              "...                                           ...  ...                      ...\n",
              "1865252  fffedfb154fbc4107ba7b075e4e1772a5a0cb20b  ...  2011-10-14 10:17:52.387\n",
              "1865262  ffff8667019e63064898cb1c6562610667009848  ...  2011-08-31 17:04:15.591\n",
              "1865264  ffffbcfcee8ff636231fa0df557528e6fa2ecdba  ...  2011-10-28 07:27:05.039\n",
              "1865266  ffffed824a4fc5b78e407a423f72bbbc2f6e5213  ...  2011-10-20 00:23:16.705\n",
              "1865267  fffff158dec2f40d082f7797413f7b6dbc1713e6  ...  2011-10-30 15:40:20.889\n",
              "\n",
              "[305434 rows x 6 columns]"
            ]
          },
          "metadata": {
            "tags": []
          },
          "execution_count": 45
        }
      ]
    },
    {
      "cell_type": "code",
      "metadata": {
        "id": "dyzYdHB7vI7e",
        "colab_type": "code",
        "colab": {
          "base_uri": "https://localhost:8080/",
          "height": 35
        },
        "outputId": "d977656d-e4aa-4a39-9354-74d010e942f1"
      },
      "source": [
        "# number of unique users in the dataset\n",
        "len(new_dataset['user'].unique())"
      ],
      "execution_count": 62,
      "outputs": [
        {
          "output_type": "execute_result",
          "data": {
            "text/plain": [
              "275718"
            ]
          },
          "metadata": {
            "tags": []
          },
          "execution_count": 62
        }
      ]
    },
    {
      "cell_type": "code",
      "metadata": {
        "id": "_PLi9At8_5pu",
        "colab_type": "code",
        "colab": {}
      },
      "source": [
        "# Extract required rows to apply Naive Bayes\n",
        "subset_dataset = new_dataset[['query', 'sku']]"
      ],
      "execution_count": 0,
      "outputs": []
    },
    {
      "cell_type": "code",
      "metadata": {
        "id": "pXp1Bdec_5py",
        "colab_type": "code",
        "colab": {}
      },
      "source": [
        "# dataset_to_train = subset_dataset.sample(20000)\n",
        "# naive_bayes_dataset = copy.deepcopy(dataset_to_train)\n",
        "naive_bayes_dataset = copy.deepcopy(subset_dataset)\n",
        "# naive_bayes_dataset = naive_bayes_dataset.sample(100000)\n",
        "classes = naive_bayes_dataset['sku'].unique()"
      ],
      "execution_count": 0,
      "outputs": []
    },
    {
      "cell_type": "code",
      "metadata": {
        "id": "YtRi_hR__5p1",
        "colab_type": "code",
        "colab": {}
      },
      "source": [
        "naive_bayes_dataset['query'] = naive_bayes_dataset['query'].astype('str')"
      ],
      "execution_count": 0,
      "outputs": []
    },
    {
      "cell_type": "code",
      "metadata": {
        "id": "mme6PXQ8_5p3",
        "colab_type": "code",
        "colab": {}
      },
      "source": [
        "# convert all characters in query column to lower case\n",
        "naive_bayes_dataset.loc[:,['query']] = naive_bayes_dataset['query'].map(lambda x: x.lower() if isinstance(x, str) else x)"
      ],
      "execution_count": 0,
      "outputs": []
    },
    {
      "cell_type": "code",
      "metadata": {
        "scrolled": true,
        "id": "zipJxaZD_5p6",
        "colab_type": "code",
        "colab": {}
      },
      "source": [
        "# remove punctuation\n",
        "naive_bayes_dataset['query'] = naive_bayes_dataset['query'].str.translate(str.maketrans(' ', ' ', string.punctuation.replace('.', '')))"
      ],
      "execution_count": 0,
      "outputs": []
    },
    {
      "cell_type": "code",
      "metadata": {
        "id": "rBd7BEAu_5p8",
        "colab_type": "code",
        "colab": {}
      },
      "source": [
        "# word tokenizer\n",
        "naive_bayes_dataset['query'] = naive_bayes_dataset['query'].apply(nltk.word_tokenize)"
      ],
      "execution_count": 0,
      "outputs": []
    },
    {
      "cell_type": "code",
      "metadata": {
        "id": "STh1Jivr_5qC",
        "colab_type": "code",
        "colab": {}
      },
      "source": [
        "stemmer = PorterStemmer()\n",
        " \n",
        "naive_bayes_dataset['query'] = naive_bayes_dataset['query'].apply(lambda x: [stemmer.stem(y) for y in x])"
      ],
      "execution_count": 0,
      "outputs": []
    },
    {
      "cell_type": "code",
      "metadata": {
        "scrolled": true,
        "id": "-z0PnVQT_5qE",
        "colab_type": "code",
        "colab": {}
      },
      "source": [
        "# This converts the list of words into space-separated strings\n",
        "naive_bayes_dataset['query'] = naive_bayes_dataset['query'].apply(lambda x: ' '.join(x))\n",
        "\n",
        "count_vect = CountVectorizer()\n",
        "counts = count_vect.fit_transform(naive_bayes_dataset['query'])"
      ],
      "execution_count": 0,
      "outputs": []
    },
    {
      "cell_type": "code",
      "metadata": {
        "id": "TD5jAl5P_5qG",
        "colab_type": "code",
        "colab": {}
      },
      "source": [
        "transformer = TfidfTransformer().fit(counts)\n",
        "\n",
        "counts = transformer.transform(counts)"
      ],
      "execution_count": 0,
      "outputs": []
    },
    {
      "cell_type": "code",
      "metadata": {
        "id": "pBp2gI4l_5qJ",
        "colab_type": "code",
        "colab": {}
      },
      "source": [
        "X_train, X_test, y_train, y_test = train_test_split(counts, naive_bayes_dataset['sku'], test_size=0.1, random_state=69)"
      ],
      "execution_count": 0,
      "outputs": []
    },
    {
      "cell_type": "code",
      "metadata": {
        "id": "0XTkwAMz_5qL",
        "colab_type": "code",
        "colab": {}
      },
      "source": [
        "model = MultinomialNB().partial_fit(X_train, y_train, classes)"
      ],
      "execution_count": 0,
      "outputs": []
    },
    {
      "cell_type": "code",
      "metadata": {
        "id": "aFtPn3aW_5qO",
        "colab_type": "code",
        "outputId": "85e0b552-6c5c-41b1-89d1-e7ec45d980f8",
        "colab": {
          "base_uri": "https://localhost:8080/",
          "height": 35
        }
      },
      "source": [
        "\n",
        "\n",
        "predicted = model.predict(X_test)\n",
        "\n",
        "print(np.mean(predicted == y_test))"
      ],
      "execution_count": 57,
      "outputs": [
        {
          "output_type": "stream",
          "text": [
            "0.5646608171817705\n"
          ],
          "name": "stdout"
        }
      ]
    },
    {
      "cell_type": "code",
      "metadata": {
        "id": "0aqquaYX_5qR",
        "colab_type": "code",
        "outputId": "e477443a-1bd5-41ea-cb40-1b17dbfb9f4c",
        "colab": {
          "base_uri": "https://localhost:8080/",
          "height": 139
        }
      },
      "source": [
        "print(confusion_matrix(y_test, predicted))"
      ],
      "execution_count": 25,
      "outputs": [
        {
          "output_type": "stream",
          "text": [
            "[[  9 130   0 ...   0   0   0]\n",
            " [  2 173   0 ...   0   0   0]\n",
            " [  0   0  73 ...   0   0   0]\n",
            " ...\n",
            " [  0   1   0 ...   0   0   0]\n",
            " [  0   0   0 ...   0 207   0]\n",
            " [  0   0   0 ...   0   0 355]]\n"
          ],
          "name": "stdout"
        }
      ]
    },
    {
      "cell_type": "code",
      "metadata": {
        "id": "DwPW55ay1EjE",
        "colab_type": "code",
        "colab": {
          "base_uri": "https://localhost:8080/",
          "height": 35
        },
        "outputId": "251e3e1d-2569-4d45-c8c4-e6734922de0e"
      },
      "source": [
        "from sklearn.metrics import accuracy_score\n",
        "\n",
        "print(accuracy_score(y_test, predicted))"
      ],
      "execution_count": 63,
      "outputs": [
        {
          "output_type": "stream",
          "text": [
            "0.5646608171817705\n"
          ],
          "name": "stdout"
        }
      ]
    },
    {
      "cell_type": "code",
      "metadata": {
        "id": "kEgl5kWB1LoL",
        "colab_type": "code",
        "colab": {
          "base_uri": "https://localhost:8080/",
          "height": 1000
        },
        "outputId": "a585d56a-0b35-4ce0-b388-71ca95c0f08b"
      },
      "source": [
        "from sklearn.metrics import classification_report\n",
        "\n",
        "print(classification_report(y_test, predicted))"
      ],
      "execution_count": 65,
      "outputs": [
        {
          "output_type": "stream",
          "text": [
            "              precision    recall  f1-score   support\n",
            "\n",
            "     1049236       0.42      0.04      0.07       138\n",
            "     1069212       0.75      0.08      0.15       182\n",
            "     1161725       0.95      0.70      0.80       141\n",
            "     1162184       0.38      0.92      0.54       217\n",
            "     1208844       0.61      0.30      0.40       196\n",
            "     1222817       0.56      0.82      0.67       283\n",
            "     1230537       0.74      0.40      0.52       183\n",
            "     1232474       0.88      0.11      0.19       276\n",
            "     1251336       0.91      0.28      0.43       223\n",
            "     1251981       0.61      0.60      0.61       161\n",
            "     1257136       0.86      0.75      0.80       295\n",
            "     1303056       0.92      0.84      0.88       181\n",
            "     1308088       0.65      0.67      0.66       166\n",
            "     1331156       0.69      0.62      0.66       436\n",
            "     1517163       0.82      0.80      0.81       144\n",
            "     1534115       0.50      0.00      0.01       226\n",
            "     1535836       0.43      0.01      0.03       228\n",
            "     1623912       0.63      0.61      0.62       337\n",
            "     1685061       0.69      0.82      0.75       138\n",
            "     1831054       0.82      0.12      0.20       199\n",
            "     1853531       0.76      0.10      0.18       252\n",
            "     1945531       0.51      0.80      0.63      1305\n",
            "     1945595       0.89      0.06      0.10       305\n",
            "     1946197       0.78      0.73      0.75       222\n",
            "     1980124       0.50      0.68      0.57       197\n",
            "     1987075       0.65      0.17      0.26       181\n",
            "     2049039       0.79      0.30      0.44       173\n",
            "     2138389       0.18      0.06      0.08       432\n",
            "     2173056       0.99      0.88      0.94       216\n",
            "     2204211       0.88      0.26      0.41       175\n",
            "     2224084       0.95      0.91      0.93       187\n",
            "     2225047       0.44      0.86      0.58       242\n",
            "     2265381       0.65      0.33      0.44       160\n",
            "     2300417       0.55      0.26      0.35       165\n",
            "     2339322       0.88      0.07      0.13       324\n",
            "     2375201       0.95      0.89      0.92       157\n",
            "     2390524       0.80      0.85      0.82       536\n",
            "     2414049       0.91      0.64      0.75       185\n",
            "     2475916       0.83      0.59      0.69       314\n",
            "     2506119       0.75      0.69      0.72       187\n",
            "     2506173       0.84      0.78      0.81       198\n",
            "     2512059       0.79      0.74      0.76       167\n",
            "     2539739       0.58      0.70      0.63       160\n",
            "     2550164       0.86      0.89      0.87       644\n",
            "     2620821       0.47      0.97      0.63       879\n",
            "     2658077       0.91      0.61      0.73       288\n",
            "     2738738       0.41      0.42      0.41       303\n",
            "     2769576       0.86      0.66      0.75       172\n",
            "     2775225       0.75      0.48      0.58       171\n",
            "     2803428       0.98      0.71      0.83       181\n",
            "     2809771       0.00      0.00      0.00       247\n",
            "     2817582       0.49      0.70      0.57       558\n",
            "     2817743       0.00      0.00      0.00       180\n",
            "     2836657       0.51      0.23      0.32       244\n",
            "     2842056       0.46      0.86      0.60      2456\n",
            "     2842092       0.26      0.01      0.02      1274\n",
            "     2845071       0.73      0.12      0.21       157\n",
            "     2873059       0.86      0.48      0.62       273\n",
            "     2893174       0.56      0.15      0.24       364\n",
            "     2925714       0.61      0.48      0.54       187\n",
            "     2969477       0.50      0.28      0.36       327\n",
            "     2970255       0.31      0.02      0.04       223\n",
            "     2971078       0.33      0.02      0.04       192\n",
            "     2989098       0.79      0.79      0.79       253\n",
            "     3005219       0.68      0.20      0.31       176\n",
            "     3061302       0.58      0.93      0.71       643\n",
            "     3061366       0.81      0.09      0.17       179\n",
            "     3103247       0.94      0.89      0.92       189\n",
            "     3108109       0.38      0.01      0.03       213\n",
            "     3122039       0.95      0.83      0.89       154\n",
            "     3133099       0.95      0.73      0.83       162\n",
            "     3143987       0.54      0.97      0.69       233\n",
            "     3168067       0.94      0.78      0.85       196\n",
            "     3209231       0.93      0.89      0.91       310\n",
            "     3232178       0.33      0.01      0.02       212\n",
            "     3247045       0.81      0.93      0.87       444\n",
            "     3303069       0.52      0.62      0.57       228\n",
            "     3487648       0.34      0.85      0.48       248\n",
            "     3487784       0.58      0.03      0.06       224\n",
            "     3674224       0.65      0.11      0.19       179\n",
            "     6889584       0.87      0.78      0.82       178\n",
            "     8208389       0.79      0.33      0.46       170\n",
            "     8229044       0.45      0.78      0.57       208\n",
            "     8856865       0.73      0.39      0.50       140\n",
            "     8913606       0.00      0.00      0.00       129\n",
            "     8915178       0.70      0.21      0.32       142\n",
            "     8998506       0.85      0.07      0.13       156\n",
            "     9172799       0.62      0.50      0.56       230\n",
            "     9225377       0.59      0.85      0.69      1073\n",
            "     9225411       0.83      0.13      0.23       400\n",
            "     9420361       0.65      0.72      0.68       262\n",
            "     9492426       0.28      0.31      0.30       432\n",
            "     9744971       0.82      0.92      0.86       214\n",
            "     9755322       0.34      0.90      0.50      1160\n",
            "     9755395       0.00      0.00      0.00       220\n",
            "     9809492       0.96      0.95      0.95       219\n",
            "     9836718       0.31      0.81      0.45       389\n",
            "     9845581       0.40      0.01      0.02       163\n",
            "     9945474       0.70      0.34      0.46       156\n",
            "     9947181       0.93      0.65      0.76       150\n",
            "\n",
            "    accuracy                           0.56     30544\n",
            "   macro avg       0.65      0.49      0.50     30544\n",
            "weighted avg       0.60      0.56      0.51     30544\n",
            "\n"
          ],
          "name": "stdout"
        },
        {
          "output_type": "stream",
          "text": [
            "/usr/local/lib/python3.6/dist-packages/sklearn/metrics/classification.py:1437: UndefinedMetricWarning: Precision and F-score are ill-defined and being set to 0.0 in labels with no predicted samples.\n",
            "  'precision', 'predicted', average, warn_for)\n"
          ],
          "name": "stderr"
        }
      ]
    },
    {
      "cell_type": "code",
      "metadata": {
        "id": "uk4FJoxV3ZMr",
        "colab_type": "code",
        "colab": {}
      },
      "source": [
        "from sklearn.preprocessing import LabelBinarizer\n",
        "# y_test_binarize = label_binarize(y_test, classes)\n",
        "lb = LabelBinarizer()\n",
        "lb.fit(y_test)\n",
        "\n",
        "y_test = lb.transform(y_test)"
      ],
      "execution_count": 0,
      "outputs": []
    },
    {
      "cell_type": "code",
      "metadata": {
        "id": "Or9KAnn41oc6",
        "colab_type": "code",
        "colab": {
          "base_uri": "https://localhost:8080/",
          "height": 417
        },
        "outputId": "ce2b0246-20b3-4ec1-d87d-e40508753613"
      },
      "source": [
        "from sklearn.metrics import roc_curve, roc_auc_score\n",
        "import matplotlib.pyplot as plt\n",
        "%matplotlib inline\n",
        "\n",
        "# y_pred_prob = model.predict_proba(X_test)[:,1]\n",
        "# print(type(y_pred_prob))\n",
        "# y_pred_prob_binarize = label_binarize(y_pred_prob, classes)\n",
        "pred = lb.transform(predicted)\n",
        "print(pred)\n",
        "fpr, tpr, thresholds = roc_curve(y_test[:,1], pred[:,1])\n",
        "\n",
        "# create plot\n",
        "plt.plot(fpr, tpr, label='ROC curve')\n",
        "plt.plot([0, 1], [0, 1], 'k--', label='Random guess')\n",
        "_ = plt.xlabel('False Positive Rate')\n",
        "_ = plt.ylabel('True Positive Rate')\n",
        "_ = plt.title('ROC Curve')\n",
        "_ = plt.xlim([-0.02, 1])\n",
        "_ = plt.ylim([0, 1.02])\n",
        "_ = plt.legend(loc=\"lower right\")\n",
        "\n",
        "# save figure\n",
        "plt.savefig('roc_curve.png', dpi=200)"
      ],
      "execution_count": 101,
      "outputs": [
        {
          "output_type": "stream",
          "text": [
            "[[0 0 0 ... 0 0 0]\n",
            " [0 0 0 ... 0 0 0]\n",
            " [0 0 0 ... 0 0 0]\n",
            " ...\n",
            " [0 0 0 ... 0 0 0]\n",
            " [0 0 0 ... 0 0 0]\n",
            " [0 0 0 ... 0 0 0]]\n"
          ],
          "name": "stdout"
        },
        {
          "output_type": "display_data",
          "data": {
            "image/png": "[encoded data removed]",
            "text/plain": [
              "<Figure size 432x288 with 1 Axes>"
            ]
          },
          "metadata": {
            "tags": []
          }
        }
      ]
    },
    {
      "cell_type": "code",
      "metadata": {
        "id": "jrdp15wI_orm",
        "colab_type": "code",
        "colab": {
          "base_uri": "https://localhost:8080/",
          "height": 35
        },
        "outputId": "ad02341c-91db-403c-b115-efdd9f28fdb5"
      },
      "source": [
        "roc_auc_score(y_test, pred)"
      ],
      "execution_count": 102,
      "outputs": [
        {
          "output_type": "execute_result",
          "data": {
            "text/plain": [
              "0.7440319367620123"
            ]
          },
          "metadata": {
            "tags": []
          },
          "execution_count": 102
        }
      ]
    },
    {
      "cell_type": "code",
      "metadata": {
        "id": "MSKth65v_yab",
        "colab_type": "code",
        "colab": {
          "base_uri": "https://localhost:8080/",
          "height": 295
        },
        "outputId": "6615155e-7fd8-4b45-d1b4-a5be396703b7"
      },
      "source": [
        "from sklearn.metrics import precision_recall_curve \n",
        "\n",
        "precision, recall, thresholds = precision_recall_curve(y_test[:,1], pred[:,1])\n",
        "\n",
        "# create plot\n",
        "plt.plot(precision, recall, label='Precision-recall curve')\n",
        "_ = plt.xlabel('Precision')\n",
        "_ = plt.ylabel('Recall')\n",
        "_ = plt.title('Precision-recall curve')\n",
        "_ = plt.xlim([0.735, 1])\n",
        "_ = plt.ylim([0, 1.02])\n",
        "_ = plt.legend(loc=\"lower left\")\n",
        "\n",
        "# save figure\n",
        "plt.savefig('precision_recall.png', dpi=200)"
      ],
      "execution_count": 104,
      "outputs": [
        {
          "output_type": "display_data",
          "data": {
            "image/png": "[encoded data removed]",
            "text/plain": [
              "<Figure size 432x288 with 1 Axes>"
            ]
          },
          "metadata": {
            "tags": []
          }
        }
      ]
    },
    {
      "cell_type": "code",
      "metadata": {
        "id": "jXJx90dYAH9n",
        "colab_type": "code",
        "colab": {
          "base_uri": "https://localhost:8080/",
          "height": 35
        },
        "outputId": "a0f27389-6558-4dc1-ebc8-2f4d7ce3aa49"
      },
      "source": [
        "from sklearn.metrics import average_precision_score\n",
        "\n",
        "average_precision_score(y_test, pred)"
      ],
      "execution_count": 105,
      "outputs": [
        {
          "output_type": "execute_result",
          "data": {
            "text/plain": [
              "0.35550585878087704"
            ]
          },
          "metadata": {
            "tags": []
          },
          "execution_count": 105
        }
      ]
    },
    {
      "cell_type": "code",
      "metadata": {
        "id": "gnBgQ4I5_5qV",
        "colab_type": "code",
        "colab": {}
      },
      "source": [
        "ngrams_dataset = copy.deepcopy(subset_dataset)"
      ],
      "execution_count": 0,
      "outputs": []
    },
    {
      "cell_type": "code",
      "metadata": {
        "scrolled": true,
        "id": "BqoSkclU_5qY",
        "colab_type": "code",
        "outputId": "da9f0eb4-13f0-4e39-cbce-1dabac22bd11",
        "colab": {
          "base_uri": "https://localhost:8080/",
          "height": 225
        }
      },
      "source": [
        "ngrams_dataset['query'] = ngrams_dataset['query'].astype('str')\n",
        "ngrams_dataset['query']"
      ],
      "execution_count": 27,
      "outputs": [
        {
          "output_type": "execute_result",
          "data": {
            "text/plain": [
              "11              Zagg iPhone\n",
              "12         Watch The Throne\n",
              "26                  Macbook\n",
              "40                   lcd tv\n",
              "46                   lcd tv\n",
              "                 ...       \n",
              "1865252           dre beats\n",
              "1865262       tha carter IV\n",
              "1865264                 ttv\n",
              "1865266            ds games\n",
              "1865267              Archos\n",
              "Name: query, Length: 265886, dtype: object"
            ]
          },
          "metadata": {
            "tags": []
          },
          "execution_count": 27
        }
      ]
    },
    {
      "cell_type": "code",
      "metadata": {
        "id": "Uil0UGJg_5qc",
        "colab_type": "code",
        "colab": {}
      },
      "source": [
        "# convert all characters in query column to lower case\n",
        "ngrams_dataset.loc[:,['query']] = ngrams_dataset['query'].map(lambda x: x.lower() if isinstance(x, str) else x)"
      ],
      "execution_count": 0,
      "outputs": []
    },
    {
      "cell_type": "code",
      "metadata": {
        "id": "rZAwLwAj_5qf",
        "colab_type": "code",
        "colab": {}
      },
      "source": [
        "# remove punctuation\n",
        "ngrams_dataset['query'] = ngrams_dataset['query'].str.translate(str.maketrans(' ', ' ', string.punctuation.replace('.', '')))"
      ],
      "execution_count": 0,
      "outputs": []
    },
    {
      "cell_type": "code",
      "metadata": {
        "id": "1h0xmuhP_5qh",
        "colab_type": "code",
        "colab": {}
      },
      "source": [
        "# word tokenizer\n",
        "ngrams_dataset['query'] = ngrams_dataset['query'].apply(nltk.word_tokenize)"
      ],
      "execution_count": 0,
      "outputs": []
    },
    {
      "cell_type": "code",
      "metadata": {
        "id": "9dDHj30F_5qj",
        "colab_type": "code",
        "colab": {}
      },
      "source": [
        "# removing stop words\n",
        "stop = stopwords.words('english')\n",
        "ngrams_dataset['query'] = ngrams_dataset['query'].apply(lambda x: [item for item in x if item not in stop])    "
      ],
      "execution_count": 0,
      "outputs": []
    },
    {
      "cell_type": "code",
      "metadata": {
        "id": "x84ECWso_5qm",
        "colab_type": "code",
        "colab": {}
      },
      "source": [
        "ngrams_dataset['query'] = ngrams_dataset['query'].apply(lambda x: ' '.join(x))"
      ],
      "execution_count": 0,
      "outputs": []
    },
    {
      "cell_type": "code",
      "metadata": {
        "id": "CjX3bcG7_5qo",
        "colab_type": "code",
        "colab": {}
      },
      "source": [
        "ngrams_dataset['query'] = ngrams_dataset['query'].apply(lambda x: ' '.join(sorted(x.split())))"
      ],
      "execution_count": 0,
      "outputs": []
    },
    {
      "cell_type": "code",
      "metadata": {
        "id": "wNJq7Jrx_5qq",
        "colab_type": "code",
        "colab": {}
      },
      "source": [
        "new_query_list = ngrams_dataset['query'].apply(lambda x: nltk.bigrams(x.split()) if len(x.split())>1 else [x])"
      ],
      "execution_count": 0,
      "outputs": []
    },
    {
      "cell_type": "code",
      "metadata": {
        "id": "2Q7H3b6U_5qt",
        "colab_type": "code",
        "colab": {}
      },
      "source": [
        "new_query_list = new_query_list.apply(lambda x: [' '.join(y) for y in x if isinstance(x, types.GeneratorType)] if isinstance(x, types.GeneratorType) else x)"
      ],
      "execution_count": 0,
      "outputs": []
    },
    {
      "cell_type": "code",
      "metadata": {
        "id": "FvWItNn1_5qv",
        "colab_type": "code",
        "colab": {}
      },
      "source": [
        "ngrams_dataset['query'] = new_query_list"
      ],
      "execution_count": 0,
      "outputs": []
    },
    {
      "cell_type": "code",
      "metadata": {
        "id": "dpJIQjUU_5qy",
        "colab_type": "code",
        "colab": {}
      },
      "source": [
        "# This converts the list of words into space-separated strings\n",
        "ngrams_dataset['query'] = ngrams_dataset['query'].apply(lambda x: ' '.join(x))\n",
        "\n",
        "count_vect_2 = CountVectorizer()\n",
        "counts_2 = count_vect.fit_transform(ngrams_dataset['query'])"
      ],
      "execution_count": 0,
      "outputs": []
    },
    {
      "cell_type": "code",
      "metadata": {
        "id": "f3C69wne_5q1",
        "colab_type": "code",
        "colab": {}
      },
      "source": [
        "transformer_2 = TfidfTransformer().fit(counts_2)\n",
        "\n",
        "counts = transformer_2.transform(counts_2)"
      ],
      "execution_count": 0,
      "outputs": []
    },
    {
      "cell_type": "code",
      "metadata": {
        "id": "ysrVR37h_5q4",
        "colab_type": "code",
        "colab": {}
      },
      "source": [
        "X_train_2, X_test_2, y_train_2, y_test_2 = train_test_split(counts_2, ngrams_dataset['sku'], test_size=0.1, random_state=69)"
      ],
      "execution_count": 0,
      "outputs": []
    },
    {
      "cell_type": "code",
      "metadata": {
        "id": "DnGIR92a_5q6",
        "colab_type": "code",
        "colab": {}
      },
      "source": [
        "model_2 = MultinomialNB().fit(X_train_2, y_train_2)"
      ],
      "execution_count": 0,
      "outputs": []
    },
    {
      "cell_type": "code",
      "metadata": {
        "id": "Z42de7C4_5q9",
        "colab_type": "code",
        "outputId": "5c4f257d-16e9-4084-d51b-0a26834de30e",
        "colab": {
          "base_uri": "https://localhost:8080/",
          "height": 35
        }
      },
      "source": [
        "predicted_2 = model_2.predict(X_test_2)\n",
        "\n",
        "print(np.mean(predicted_2 == y_test_2))"
      ],
      "execution_count": 41,
      "outputs": [
        {
          "output_type": "stream",
          "text": [
            "0.5847154838467036\n"
          ],
          "name": "stdout"
        }
      ]
    }
  ]
}